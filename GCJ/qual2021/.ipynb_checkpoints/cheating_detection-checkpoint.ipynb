{
 "cells": [
  {
   "cell_type": "code",
   "execution_count": 67,
   "id": "focal-publication",
   "metadata": {},
   "outputs": [],
   "source": [
    "import os\n",
    "from dataclasses import dataclass\n",
    "from typing import List\n",
    "\n",
    "import numpy as np\n",
    "import pandas as pd\n",
    "\n",
    "import matplotlib.pyplot as plt"
   ]
  },
  {
   "cell_type": "code",
   "execution_count": 33,
   "id": "narrow-secondary",
   "metadata": {},
   "outputs": [],
   "source": [
    "%matplotlib inline\n",
    "DATA_DIR = os.path.abspath(os.path.join(os.getcwd(), '..'))\n",
    "\n",
    "\n",
    "NUM_QUESTIONS = 10000\n",
    "NUM_PLAYERS = 100"
   ]
  },
  {
   "cell_type": "code",
   "execution_count": 14,
   "id": "hired-wheat",
   "metadata": {},
   "outputs": [],
   "source": [
    "with open(f'{DATA_DIR}/E_in.txt', 'r') as f:\n",
    "    T = int(f.readline())\n",
    "    P = int(f.readline())\n",
    "    \n",
    "    answers = []\n",
    "    \n",
    "    for i in range(NUM_PLAYERS):\n",
    "        answers.append(f.readline())"
   ]
  },
  {
   "cell_type": "code",
   "execution_count": 15,
   "id": "conservative-cooperative",
   "metadata": {},
   "outputs": [
    {
     "data": {
      "text/plain": [
       "100"
      ]
     },
     "execution_count": 15,
     "metadata": {},
     "output_type": "execute_result"
    }
   ],
   "source": [
    "len(answers)"
   ]
  },
  {
   "cell_type": "code",
   "execution_count": 27,
   "id": "verified-delivery",
   "metadata": {},
   "outputs": [],
   "source": [
    "answer_matrix = np.row_stack([[int(x) for x in answer[:NUM_QUESTIONS]] for answer in answers])"
   ]
  },
  {
   "cell_type": "code",
   "execution_count": 28,
   "id": "unnecessary-protocol",
   "metadata": {},
   "outputs": [
    {
     "data": {
      "text/plain": [
       "(100, 10000)"
      ]
     },
     "execution_count": 28,
     "metadata": {},
     "output_type": "execute_result"
    }
   ],
   "source": [
    "answer_matrix.shape"
   ]
  },
  {
   "cell_type": "code",
   "execution_count": 58,
   "id": "casual-alexander",
   "metadata": {},
   "outputs": [],
   "source": [
    "difficulties = 1.0 - (np.array([np.mean(answer_matrix[:, i]) for i in range(NUM_QUESTIONS)]))"
   ]
  },
  {
   "cell_type": "code",
   "execution_count": 59,
   "id": "hybrid-garden",
   "metadata": {},
   "outputs": [
    {
     "data": {
      "text/plain": [
       "(array([ 543., 1428., 1144., 1062., 1031.,  985., 1041., 1128., 1174.,\n",
       "         464.]),\n",
       " array([0.03 , 0.121, 0.212, 0.303, 0.394, 0.485, 0.576, 0.667, 0.758,\n",
       "        0.849, 0.94 ]),\n",
       " <BarContainer object of 10 artists>)"
      ]
     },
     "execution_count": 59,
     "metadata": {},
     "output_type": "execute_result"
    },
    {
     "data": {
      "image/png": "[encoded data removed]",
      "text/plain": [
       "<Figure size 432x288 with 1 Axes>"
      ]
     },
     "metadata": {
      "needs_background": "light"
     },
     "output_type": "display_data"
    }
   ],
   "source": [
    "plt.hist(difficulties)"
   ]
  },
  {
   "cell_type": "code",
   "execution_count": 60,
   "id": "correct-cause",
   "metadata": {},
   "outputs": [
    {
     "data": {
      "text/plain": [
       "array([0, 0, 1, ..., 1, 1, 0])"
      ]
     },
     "execution_count": 60,
     "metadata": {},
     "output_type": "execute_result"
    }
   ],
   "source": [
    "answer_matrix[0]"
   ]
  },
  {
   "cell_type": "code",
   "execution_count": 61,
   "id": "latest-dover",
   "metadata": {},
   "outputs": [
    {
     "data": {
      "text/plain": [
       "2744"
      ]
     },
     "execution_count": 61,
     "metadata": {},
     "output_type": "execute_result"
    }
   ],
   "source": [
    "len(difficulties[answer_matrix[0] == 1])"
   ]
  },
  {
   "cell_type": "code",
   "execution_count": 62,
   "id": "amber-genetics",
   "metadata": {},
   "outputs": [
    {
     "data": {
      "text/plain": [
       "0.261268221574344"
      ]
     },
     "execution_count": 62,
     "metadata": {},
     "output_type": "execute_result"
    }
   ],
   "source": [
    "np.mean(difficulties[answer_matrix[0] == 1])"
   ]
  },
  {
   "cell_type": "code",
   "execution_count": 84,
   "id": "hairy-toilet",
   "metadata": {},
   "outputs": [],
   "source": [
    "@dataclass\n",
    "class PlayerStats:\n",
    "    num_correct: int\n",
    "    mean_correct_difficulty: float\n",
    "    std_dev_correct_difficulties: float\n",
    "    correct_difficulties: List[float]\n",
    "    incorrect_difficulties: List[float]\n",
    "    "
   ]
  },
  {
   "cell_type": "code",
   "execution_count": 85,
   "id": "greenhouse-andrews",
   "metadata": {},
   "outputs": [],
   "source": [
    "def get_player_stats(player_idx: int):\n",
    "    return PlayerStats(num_correct=len(difficulties[answer_matrix[player_idx] == 1]),\n",
    "                       mean_correct_difficulty=np.mean(difficulties[answer_matrix[player_idx] == 1]),\n",
    "                       std_dev_correct_difficulties=np.std(difficulties[answer_matrix[player_idx] == 1]),\n",
    "                       correct_difficulties=difficulties[answer_matrix[player_idx] == 1],\n",
    "                       incorrect_difficulties=difficulties[answer_matrix[player_idx] == 0])"
   ]
  },
  {
   "cell_type": "code",
   "execution_count": 86,
   "id": "incident-treasure",
   "metadata": {},
   "outputs": [],
   "source": [
    "stats = [get_player_stats(i) for i in range(NUM_PLAYERS)]"
   ]
  },
  {
   "cell_type": "code",
   "execution_count": 87,
   "id": "primary-leader",
   "metadata": {},
   "outputs": [
    {
     "data": {
      "text/plain": [
       "<matplotlib.collections.PathCollection at 0x7fae8b707520>"
      ]
     },
     "execution_count": 87,
     "metadata": {},
     "output_type": "execute_result"
    },
    {
     "data": {
      "image/png": "[encoded data removed]",
      "text/plain": [
       "<Figure size 432x288 with 1 Axes>"
      ]
     },
     "metadata": {
      "needs_background": "light"
     },
     "output_type": "display_data"
    }
   ],
   "source": [
    "plt.scatter([s.num_correct for s in stats], [s.mean_correct_difficulty for s in stats])"
   ]
  },
  {
   "cell_type": "code",
   "execution_count": 81,
   "id": "useful-germany",
   "metadata": {},
   "outputs": [
    {
     "data": {
      "text/plain": [
       "(array([ 541., 1421., 1016., 1055.,  987.,  890., 1038.,  805.,  886.,\n",
       "         394.]),\n",
       " array([0.03, 0.12, 0.21, 0.3 , 0.39, 0.48, 0.57, 0.66, 0.75, 0.84, 0.93]),\n",
       " <BarContainer object of 10 artists>)"
      ]
     },
     "execution_count": 81,
     "metadata": {},
     "output_type": "execute_result"
    },
    {
     "data": {
      "image/png": "[encoded data removed]",
      "text/plain": [
       "<Figure size 432x288 with 1 Axes>"
      ]
     },
     "metadata": {
      "needs_background": "light"
     },
     "output_type": "display_data"
    }
   ],
   "source": [
    "plt.hist(stats[58].correct_difficulties)"
   ]
  },
  {
   "cell_type": "code",
   "execution_count": 80,
   "id": "referenced-christianity",
   "metadata": {},
   "outputs": [
    {
     "data": {
      "text/plain": [
       "(array([  7.,   3.,  16.,  27.,  56.,  92., 119., 207., 306., 134.]),\n",
       " array([0.09 , 0.175, 0.26 , 0.345, 0.43 , 0.515, 0.6  , 0.685, 0.77 ,\n",
       "        0.855, 0.94 ]),\n",
       " <BarContainer object of 10 artists>)"
      ]
     },
     "execution_count": 80,
     "metadata": {},
     "output_type": "execute_result"
    },
    {
     "data": {
      "image/png": "[encoded data removed]",
      "text/plain": [
       "<Figure size 432x288 with 1 Axes>"
      ]
     },
     "metadata": {
      "needs_background": "light"
     },
     "output_type": "display_data"
    }
   ],
   "source": [
    "plt.hist(stats[58].incorrect_difficulties)"
   ]
  },
  {
   "cell_type": "code",
   "execution_count": 82,
   "id": "essential-robinson",
   "metadata": {},
   "outputs": [
    {
     "data": {
      "text/plain": [
       "(array([315., 968., 599., 334., 231., 118.,  89.,  47.,  27.,  16.]),\n",
       " array([0.03 , 0.117, 0.204, 0.291, 0.378, 0.465, 0.552, 0.639, 0.726,\n",
       "        0.813, 0.9  ]),\n",
       " <BarContainer object of 10 artists>)"
      ]
     },
     "execution_count": 82,
     "metadata": {},
     "output_type": "execute_result"
    },
    {
     "data": {
      "image/png": "[encoded data removed]",
      "text/plain": [
       "<Figure size 432x288 with 1 Axes>"
      ]
     },
     "metadata": {
      "needs_background": "light"
     },
     "output_type": "display_data"
    }
   ],
   "source": [
    "plt.hist(stats[0].correct_difficulties)"
   ]
  },
  {
   "cell_type": "code",
   "execution_count": 83,
   "id": "similar-slovakia",
   "metadata": {},
   "outputs": [
    {
     "data": {
      "text/plain": [
       "(array([ 250.,  527.,  638.,  650.,  865.,  886.,  880., 1071., 1130.,\n",
       "         359.]),\n",
       " array([0.07 , 0.157, 0.244, 0.331, 0.418, 0.505, 0.592, 0.679, 0.766,\n",
       "        0.853, 0.94 ]),\n",
       " <BarContainer object of 10 artists>)"
      ]
     },
     "execution_count": 83,
     "metadata": {},
     "output_type": "execute_result"
    },
    {
     "data": {
      "image/png": "[encoded data removed]",
      "text/plain": [
       "<Figure size 432x288 with 1 Axes>"
      ]
     },
     "metadata": {
      "needs_background": "light"
     },
     "output_type": "display_data"
    }
   ],
   "source": [
    "plt.hist(stats[0].incorrect_difficulties)"
   ]
  },
  {
   "cell_type": "code",
   "execution_count": 88,
   "id": "waiting-slovakia",
   "metadata": {},
   "outputs": [
    {
     "data": {
      "text/plain": [
       "0.23253599589714813"
      ]
     },
     "execution_count": 88,
     "metadata": {},
     "output_type": "execute_result"
    }
   ],
   "source": [
    "stats[58].std_dev_correct_difficulties"
   ]
  },
  {
   "cell_type": "code",
   "execution_count": 89,
   "id": "other-looking",
   "metadata": {},
   "outputs": [
    {
     "data": {
      "text/plain": [
       "0.15468460645486568"
      ]
     },
     "execution_count": 89,
     "metadata": {},
     "output_type": "execute_result"
    }
   ],
   "source": [
    "stats[0].std_dev_correct_difficulties"
   ]
  },
  {
   "cell_type": "code",
   "execution_count": 90,
   "id": "ahead-kelly",
   "metadata": {},
   "outputs": [
    {
     "data": {
      "text/plain": [
       "0.23894228088808395"
      ]
     },
     "execution_count": 90,
     "metadata": {},
     "output_type": "execute_result"
    }
   ],
   "source": [
    "np.std(difficulties)"
   ]
  },
  {
   "cell_type": "code",
   "execution_count": 91,
   "id": "rising-baghdad",
   "metadata": {},
   "outputs": [
    {
     "data": {
      "text/plain": [
       "0.18508427301196217"
      ]
     },
     "execution_count": 91,
     "metadata": {},
     "output_type": "execute_result"
    }
   ],
   "source": [
    "np.mean([x.std_dev_correct_difficulties for x in stats])"
   ]
  },
  {
   "cell_type": "markdown",
   "id": "moved-democracy",
   "metadata": {},
   "source": [
    "### Hypothesis\n",
    "\n",
    "1. The cheater will have a bimodal correct answer distribution."
   ]
  },
  {
   "cell_type": "code",
   "execution_count": 96,
   "id": "opposite-officer",
   "metadata": {},
   "outputs": [],
   "source": [
    "def plot_random_player():\n",
    "    idx = np.random.randint(NUM_PLAYERS)\n",
    "    plt.hist(stats[idx].correct_difficulties)"
   ]
  },
  {
   "cell_type": "code",
   "execution_count": 98,
   "id": "extreme-estate",
   "metadata": {},
   "outputs": [
    {
     "data": {
      "image/png": "[encoded data removed]",
      "text/plain": [
       "<Figure size 432x288 with 1 Axes>"
      ]
     },
     "metadata": {
      "needs_background": "light"
     },
     "output_type": "display_data"
    }
   ],
   "source": [
    "plot_random_player()"
   ]
  },
  {
   "cell_type": "code",
   "execution_count": null,
   "id": "guided-warehouse",
   "metadata": {},
   "outputs": [],
   "source": []
  }
 ],
 "metadata": {
  "kernelspec": {
   "display_name": "Python 3",
   "language": "python",
   "name": "python3"
  },
  "language_info": {
   "codemirror_mode": {
    "name": "ipython",
    "version": 3
   },
   "file_extension": ".py",
   "mimetype": "text/x-python",
   "name": "python",
   "nbconvert_exporter": "python",
   "pygments_lexer": "ipython3",
   "version": "3.8.6"
  }
 },
 "nbformat": 4,
 "nbformat_minor": 5
}
