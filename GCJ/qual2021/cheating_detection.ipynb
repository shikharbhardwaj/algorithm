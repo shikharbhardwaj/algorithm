{
 "cells": [
  {
   "cell_type": "code",
   "execution_count": 67,
   "id": "focal-publication",
   "metadata": {},
   "outputs": [],
   "source": [
    "import os\n",
    "from dataclasses import dataclass\n",
    "from typing import List\n",
    "\n",
    "import numpy as np\n",
    "import pandas as pd\n",
    "\n",
    "import matplotlib.pyplot as plt"
   ]
  },
  {
   "cell_type": "code",
   "execution_count": 33,
   "id": "black-fields",
   "metadata": {},
   "outputs": [],
   "source": [
    "%matplotlib inline\n",
    "DATA_DIR = os.path.abspath(os.path.join(os.getcwd(), '..'))\n",
    "\n",
    "\n",
    "NUM_QUESTIONS = 10000\n",
    "NUM_PLAYERS = 100"
   ]
  },
  {
   "cell_type": "code",
   "execution_count": 14,
   "id": "fifteen-disaster",
   "metadata": {},
   "outputs": [],
   "source": [
    "with open(f'{DATA_DIR}/E_in.txt', 'r') as f:\n",
    "    T = int(f.readline())\n",
    "    P = int(f.readline())\n",
    "    \n",
    "    answers = []\n",
    "    \n",
    "    for i in range(NUM_PLAYERS):\n",
    "        answers.append(f.readline())"
   ]
  },
  {
   "cell_type": "code",
   "execution_count": 15,
   "id": "weird-database",
   "metadata": {},
   "outputs": [
    {
     "data": {
      "text/plain": [
       "100"
      ]
     },
     "execution_count": 15,
     "metadata": {},
     "output_type": "execute_result"
    }
   ],
   "source": [
    "len(answers)"
   ]
  },
  {
   "cell_type": "code",
   "execution_count": 27,
   "id": "deluxe-disposal",
   "metadata": {},
   "outputs": [],
   "source": [
    "answer_matrix = np.row_stack([[int(x) for x in answer[:NUM_QUESTIONS]] for answer in answers])"
   ]
  },
  {
   "cell_type": "code",
   "execution_count": 28,
   "id": "angry-contest",
   "metadata": {},
   "outputs": [
    {
     "data": {
      "text/plain": [
       "(100, 10000)"
      ]
     },
     "execution_count": 28,
     "metadata": {},
     "output_type": "execute_result"
    }
   ],
   "source": [
    "answer_matrix.shape"
   ]
  },
  {
   "cell_type": "code",
   "execution_count": 58,
   "id": "contrary-laundry",
   "metadata": {},
   "outputs": [],
   "source": [
    "difficulties = 1.0 - (np.array([np.mean(answer_matrix[:, i]) for i in range(NUM_QUESTIONS)]))"
   ]
  },
  {
   "cell_type": "code",
   "execution_count": 59,
   "id": "formal-controversy",
   "metadata": {},
   "outputs": [
    {
     "data": {
      "text/plain": [
       "(array([ 543., 1428., 1144., 1062., 1031.,  985., 1041., 1128., 1174.,\n",
       "         464.]),\n",
       " array([0.03 , 0.121, 0.212, 0.303, 0.394, 0.485, 0.576, 0.667, 0.758,\n",
       "        0.849, 0.94 ]),\n",
       " <BarContainer object of 10 artists>)"
      ]
     },
     "execution_count": 59,
     "metadata": {},
     "output_type": "execute_result"
    },
    {
     "data": {
      "image/png": "[encoded data removed]",
      "text/plain": [
       "<Figure size 432x288 with 1 Axes>"
      ]
     },
     "metadata": {
      "needs_background": "light"
     },
     "output_type": "display_data"
    }
   ],
   "source": [
    "plt.hist(difficulties)"
   ]
  },
  {
   "cell_type": "code",
   "execution_count": 60,
   "id": "massive-channel",
   "metadata": {},
   "outputs": [
    {
     "data": {
      "text/plain": [
       "array([0, 0, 1, ..., 1, 1, 0])"
      ]
     },
     "execution_count": 60,
     "metadata": {},
     "output_type": "execute_result"
    }
   ],
   "source": [
    "answer_matrix[0]"
   ]
  },
  {
   "cell_type": "code",
   "execution_count": 61,
   "id": "grand-archive",
   "metadata": {},
   "outputs": [
    {
     "data": {
      "text/plain": [
       "2744"
      ]
     },
     "execution_count": 61,
     "metadata": {},
     "output_type": "execute_result"
    }
   ],
   "source": [
    "len(difficulties[answer_matrix[0] == 1])"
   ]
  },
  {
   "cell_type": "code",
   "execution_count": 62,
   "id": "indie-vinyl",
   "metadata": {},
   "outputs": [
    {
     "data": {
      "text/plain": [
       "0.261268221574344"
      ]
     },
     "execution_count": 62,
     "metadata": {},
     "output_type": "execute_result"
    }
   ],
   "source": [
    "np.mean(difficulties[answer_matrix[0] == 1])"
   ]
  },
  {
   "cell_type": "code",
   "execution_count": 84,
   "id": "biological-cheat",
   "metadata": {},
   "outputs": [],
   "source": [
    "@dataclass\n",
    "class PlayerStats:\n",
    "    num_correct: int\n",
    "    mean_correct_difficulty: float\n",
    "    std_dev_correct_difficulties: float\n",
    "    correct_difficulties: List[float]\n",
    "    incorrect_difficulties: List[float]\n",
    "    "
   ]
  },
  {
   "cell_type": "code",
   "execution_count": 85,
   "id": "reduced-mountain",
   "metadata": {},
   "outputs": [],
   "source": [
    "def get_player_stats(player_idx: int, ):\n",
    "    return PlayerStats(num_correct=len(difficulties[answer_matrix[player_idx] == 1]),\n",
    "                       mean_correct_difficulty=np.mean(difficulties[answer_matrix[player_idx] == 1]),\n",
    "                       std_dev_correct_difficulties=np.std(difficulties[answer_matrix[player_idx] == 1]),\n",
    "                       correct_difficulties=difficulties[answer_matrix[player_idx] == 1],\n",
    "                       incorrect_difficulties=difficulties[answer_matrix[player_idx] == 0])"
   ]
  },
  {
   "cell_type": "code",
   "execution_count": 86,
   "id": "relevant-replica",
   "metadata": {},
   "outputs": [],
   "source": [
    "stats = [get_player_stats(i) for i in range(NUM_PLAYERS)]"
   ]
  },
  {
   "cell_type": "code",
   "execution_count": 87,
   "id": "under-oxide",
   "metadata": {},
   "outputs": [
    {
     "data": {
      "text/plain": [
       "<matplotlib.collections.PathCollection at 0x7fae8b707520>"
      ]
     },
     "execution_count": 87,
     "metadata": {},
     "output_type": "execute_result"
    },
    {
     "data": {
      "image/png": "[encoded data removed]",
      "text/plain": [
       "<Figure size 432x288 with 1 Axes>"
      ]
     },
     "metadata": {
      "needs_background": "light"
     },
     "output_type": "display_data"
    }
   ],
   "source": [
    "plt.scatter([s.num_correct for s in stats], [s.mean_correct_difficulty for s in stats])"
   ]
  },
  {
   "cell_type": "code",
   "execution_count": 81,
   "id": "bibliographic-future",
   "metadata": {},
   "outputs": [
    {
     "data": {
      "text/plain": [
       "(array([ 541., 1421., 1016., 1055.,  987.,  890., 1038.,  805.,  886.,\n",
       "         394.]),\n",
       " array([0.03, 0.12, 0.21, 0.3 , 0.39, 0.48, 0.57, 0.66, 0.75, 0.84, 0.93]),\n",
       " <BarContainer object of 10 artists>)"
      ]
     },
     "execution_count": 81,
     "metadata": {},
     "output_type": "execute_result"
    },
    {
     "data": {
      "image/png": "[encoded data removed]",
      "text/plain": [
       "<Figure size 432x288 with 1 Axes>"
      ]
     },
     "metadata": {
      "needs_background": "light"
     },
     "output_type": "display_data"
    }
   ],
   "source": [
    "plt.hist(stats[58].correct_difficulties)"
   ]
  },
  {
   "cell_type": "code",
   "execution_count": 80,
   "id": "stylish-budget",
   "metadata": {},
   "outputs": [
    {
     "data": {
      "text/plain": [
       "(array([  7.,   3.,  16.,  27.,  56.,  92., 119., 207., 306., 134.]),\n",
       " array([0.09 , 0.175, 0.26 , 0.345, 0.43 , 0.515, 0.6  , 0.685, 0.77 ,\n",
       "        0.855, 0.94 ]),\n",
       " <BarContainer object of 10 artists>)"
      ]
     },
     "execution_count": 80,
     "metadata": {},
     "output_type": "execute_result"
    },
    {
     "data": {
      "image/png": "[encoded data removed]",
      "text/plain": [
       "<Figure size 432x288 with 1 Axes>"
      ]
     },
     "metadata": {
      "needs_background": "light"
     },
     "output_type": "display_data"
    }
   ],
   "source": [
    "plt.hist(stats[58].incorrect_difficulties)"
   ]
  },
  {
   "cell_type": "code",
   "execution_count": 82,
   "id": "parallel-attempt",
   "metadata": {},
   "outputs": [
    {
     "data": {
      "text/plain": [
       "(array([315., 968., 599., 334., 231., 118.,  89.,  47.,  27.,  16.]),\n",
       " array([0.03 , 0.117, 0.204, 0.291, 0.378, 0.465, 0.552, 0.639, 0.726,\n",
       "        0.813, 0.9  ]),\n",
       " <BarContainer object of 10 artists>)"
      ]
     },
     "execution_count": 82,
     "metadata": {},
     "output_type": "execute_result"
    },
    {
     "data": {
      "image/png": "[encoded data removed]",
      "text/plain": [
       "<Figure size 432x288 with 1 Axes>"
      ]
     },
     "metadata": {
      "needs_background": "light"
     },
     "output_type": "display_data"
    }
   ],
   "source": [
    "plt.hist(stats[0].correct_difficulties)"
   ]
  },
  {
   "cell_type": "code",
   "execution_count": 83,
   "id": "fatty-riding",
   "metadata": {},
   "outputs": [
    {
     "data": {
      "text/plain": [
       "(array([ 250.,  527.,  638.,  650.,  865.,  886.,  880., 1071., 1130.,\n",
       "         359.]),\n",
       " array([0.07 , 0.157, 0.244, 0.331, 0.418, 0.505, 0.592, 0.679, 0.766,\n",
       "        0.853, 0.94 ]),\n",
       " <BarContainer object of 10 artists>)"
      ]
     },
     "execution_count": 83,
     "metadata": {},
     "output_type": "execute_result"
    },
    {
     "data": {
      "image/png": "[encoded data removed]",
      "text/plain": [
       "<Figure size 432x288 with 1 Axes>"
      ]
     },
     "metadata": {
      "needs_background": "light"
     },
     "output_type": "display_data"
    }
   ],
   "source": [
    "plt.hist(stats[0].incorrect_difficulties)"
   ]
  },
  {
   "cell_type": "code",
   "execution_count": 88,
   "id": "nervous-accountability",
   "metadata": {},
   "outputs": [
    {
     "data": {
      "text/plain": [
       "0.23253599589714813"
      ]
     },
     "execution_count": 88,
     "metadata": {},
     "output_type": "execute_result"
    }
   ],
   "source": [
    "stats[58].std_dev_correct_difficulties"
   ]
  },
  {
   "cell_type": "code",
   "execution_count": 89,
   "id": "loose-hearing",
   "metadata": {},
   "outputs": [
    {
     "data": {
      "text/plain": [
       "0.15468460645486568"
      ]
     },
     "execution_count": 89,
     "metadata": {},
     "output_type": "execute_result"
    }
   ],
   "source": [
    "stats[0].std_dev_correct_difficulties"
   ]
  },
  {
   "cell_type": "code",
   "execution_count": 90,
   "id": "suffering-grant",
   "metadata": {},
   "outputs": [
    {
     "data": {
      "text/plain": [
       "0.23894228088808395"
      ]
     },
     "execution_count": 90,
     "metadata": {},
     "output_type": "execute_result"
    }
   ],
   "source": [
    "np.std(difficulties)"
   ]
  },
  {
   "cell_type": "code",
   "execution_count": 91,
   "id": "handy-rocket",
   "metadata": {},
   "outputs": [
    {
     "data": {
      "text/plain": [
       "0.18508427301196217"
      ]
     },
     "execution_count": 91,
     "metadata": {},
     "output_type": "execute_result"
    }
   ],
   "source": [
    "np.mean([x.std_dev_correct_difficulties for x in stats])"
   ]
  },
  {
   "cell_type": "markdown",
   "id": "included-stage",
   "metadata": {},
   "source": [
    "### Hypothesis\n",
    "\n",
    "1. The cheater will have a bimodal correct answer difficulty distribution."
   ]
  },
  {
   "cell_type": "code",
   "execution_count": 218,
   "id": "adjustable-alberta",
   "metadata": {},
   "outputs": [],
   "source": [
    "def plot_random_player():\n",
    "    idx = np.random.randint(NUM_PLAYERS)\n",
    "    plt.hist(stats[idx].correct_difficulties, bins=100)\n",
    "    print(idx)\n",
    "    plt.show()"
   ]
  },
  {
   "cell_type": "code",
   "execution_count": 219,
   "id": "induced-devil",
   "metadata": {},
   "outputs": [
    {
     "name": "stdout",
     "output_type": "stream",
     "text": [
      "41\n"
     ]
    },
    {
     "data": {
      "image/png": "[encoded data removed]",
      "text/plain": [
       "<Figure size 432x288 with 1 Axes>"
      ]
     },
     "metadata": {
      "needs_background": "light"
     },
     "output_type": "display_data"
    }
   ],
   "source": [
    "plot_random_player()"
   ]
  },
  {
   "cell_type": "code",
   "execution_count": 220,
   "id": "inside-saying",
   "metadata": {},
   "outputs": [
    {
     "data": {
      "image/png": "[encoded data removed]",
      "text/plain": [
       "<Figure size 432x288 with 1 Axes>"
      ]
     },
     "metadata": {
      "needs_background": "light"
     },
     "output_type": "display_data"
    }
   ],
   "source": [
    "plt.hist(stats[58].correct_difficulties, bins=100)\n",
    "plt.show()"
   ]
  },
  {
   "cell_type": "code",
   "execution_count": 221,
   "id": "controlling-first",
   "metadata": {},
   "outputs": [
    {
     "data": {
      "image/png": "[encoded data removed]",
      "text/plain": [
       "<Figure size 432x288 with 1 Axes>"
      ]
     },
     "metadata": {
      "needs_background": "light"
     },
     "output_type": "display_data"
    }
   ],
   "source": [
    "plt.hist(difficulties)\n",
    "plt.show()"
   ]
  },
  {
   "cell_type": "code",
   "execution_count": 200,
   "id": "capable-invasion",
   "metadata": {},
   "outputs": [],
   "source": [
    "suspects = [13, 58, 16, 64, 82std_dev_correct_difficulties]"
   ]
  },
  {
   "cell_type": "code",
   "execution_count": 217,
   "id": "published-frederick",
   "metadata": {},
   "outputs": [
    {
     "data": {
      "text/plain": [
       "PlayerStats(num_correct=9033, mean_correct_difficulty=0.44790656481789, std_dev_correct_difficulties=0.23253599589714813, correct_difficulties=array([0.19, 0.11, 0.23, ..., 0.19, 0.23, 0.45]), incorrect_difficulties=array([0.77, 0.86, 0.45, 0.81, 0.73, 0.84, 0.65, 0.81, 0.83, 0.75, 0.69,\n",
       "       0.61, 0.38, 0.52, 0.86, 0.59, 0.85, 0.84, 0.73, 0.83, 0.69, 0.62,\n",
       "       0.48, 0.71, 0.43, 0.61, 0.72, 0.87, 0.85, 0.38, 0.88, 0.51, 0.74,\n",
       "       0.69, 0.55, 0.66, 0.76, 0.88, 0.74, 0.4 , 0.67, 0.57, 0.85, 0.61,\n",
       "       0.83, 0.71, 0.78, 0.82, 0.75, 0.58, 0.88, 0.77, 0.72, 0.8 , 0.51,\n",
       "       0.8 , 0.42, 0.75, 0.88, 0.85, 0.51, 0.49, 0.76, 0.75, 0.36, 0.62,\n",
       "       0.68, 0.77, 0.9 , 0.78, 0.83, 0.8 , 0.63, 0.74, 0.52, 0.81, 0.2 ,\n",
       "       0.76, 0.79, 0.6 , 0.74, 0.66, 0.39, 0.91, 0.39, 0.91, 0.76, 0.9 ,\n",
       "       0.58, 0.71, 0.53, 0.82, 0.54, 0.41, 0.3 , 0.85, 0.7 , 0.84, 0.88,\n",
       "       0.4 , 0.87, 0.83, 0.72, 0.76, 0.78, 0.77, 0.59, 0.76, 0.77, 0.88,\n",
       "       0.56, 0.64, 0.62, 0.29, 0.7 , 0.64, 0.86, 0.83, 0.7 , 0.85, 0.9 ,\n",
       "       0.54, 0.81, 0.38, 0.26, 0.66, 0.75, 0.82, 0.62, 0.52, 0.59, 0.87,\n",
       "       0.92, 0.47, 0.83, 0.85, 0.5 , 0.48, 0.87, 0.8 , 0.81, 0.88, 0.69,\n",
       "       0.72, 0.67, 0.48, 0.85, 0.72, 0.78, 0.83, 0.69, 0.78, 0.65, 0.86,\n",
       "       0.86, 0.63, 0.82, 0.43, 0.86, 0.81, 0.82, 0.68, 0.16, 0.74, 0.79,\n",
       "       0.75, 0.74, 0.59, 0.71, 0.71, 0.74, 0.68, 0.84, 0.57, 0.73, 0.77,\n",
       "       0.82, 0.7 , 0.71, 0.78, 0.81, 0.82, 0.41, 0.8 , 0.81, 0.7 , 0.7 ,\n",
       "       0.65, 0.6 , 0.61, 0.48, 0.85, 0.79, 0.68, 0.64, 0.59, 0.39, 0.8 ,\n",
       "       0.75, 0.55, 0.86, 0.73, 0.49, 0.79, 0.62, 0.8 , 0.82, 0.83, 0.47,\n",
       "       0.79, 0.29, 0.89, 0.88, 0.68, 0.68, 0.78, 0.79, 0.33, 0.73, 0.72,\n",
       "       0.44, 0.74, 0.76, 0.78, 0.74, 0.54, 0.79, 0.73, 0.54, 0.81, 0.8 ,\n",
       "       0.72, 0.89, 0.84, 0.88, 0.64, 0.9 , 0.54, 0.67, 0.83, 0.47, 0.84,\n",
       "       0.51, 0.63, 0.58, 0.78, 0.74, 0.76, 0.83, 0.74, 0.8 , 0.77, 0.52,\n",
       "       0.6 , 0.82, 0.76, 0.79, 0.78, 0.58, 0.8 , 0.8 , 0.49, 0.81, 0.75,\n",
       "       0.72, 0.86, 0.85, 0.76, 0.65, 0.84, 0.13, 0.64, 0.57, 0.84, 0.43,\n",
       "       0.87, 0.86, 0.75, 0.7 , 0.89, 0.65, 0.47, 0.71, 0.74, 0.69, 0.5 ,\n",
       "       0.9 , 0.63, 0.66, 0.69, 0.54, 0.91, 0.82, 0.61, 0.87, 0.62, 0.93,\n",
       "       0.36, 0.86, 0.48, 0.31, 0.61, 0.79, 0.76, 0.84, 0.7 , 0.74, 0.92,\n",
       "       0.67, 0.82, 0.67, 0.73, 0.83, 0.72, 0.75, 0.79, 0.79, 0.88, 0.68,\n",
       "       0.67, 0.82, 0.5 , 0.85, 0.69, 0.76, 0.83, 0.82, 0.68, 0.86, 0.85,\n",
       "       0.76, 0.86, 0.91, 0.85, 0.57, 0.79, 0.34, 0.77, 0.83, 0.79, 0.8 ,\n",
       "       0.86, 0.86, 0.87, 0.75, 0.84, 0.78, 0.75, 0.87, 0.77, 0.86, 0.77,\n",
       "       0.72, 0.9 , 0.81, 0.59, 0.73, 0.8 , 0.68, 0.77, 0.76, 0.74, 0.61,\n",
       "       0.79, 0.75, 0.63, 0.58, 0.73, 0.85, 0.57, 0.54, 0.62, 0.84, 0.74,\n",
       "       0.83, 0.55, 0.86, 0.77, 0.87, 0.72, 0.55, 0.49, 0.45, 0.4 , 0.72,\n",
       "       0.84, 0.71, 0.86, 0.47, 0.82, 0.81, 0.65, 0.67, 0.71, 0.46, 0.63,\n",
       "       0.68, 0.75, 0.56, 0.69, 0.65, 0.87, 0.66, 0.86, 0.73, 0.83, 0.9 ,\n",
       "       0.93, 0.6 , 0.7 , 0.87, 0.83, 0.82, 0.89, 0.74, 0.64, 0.51, 0.75,\n",
       "       0.84, 0.78, 0.74, 0.82, 0.72, 0.76, 0.83, 0.8 , 0.4 , 0.83, 0.77,\n",
       "       0.86, 0.85, 0.75, 0.4 , 0.88, 0.82, 0.8 , 0.54, 0.45, 0.49, 0.4 ,\n",
       "       0.78, 0.86, 0.53, 0.71, 0.57, 0.75, 0.58, 0.71, 0.83, 0.86, 0.75,\n",
       "       0.86, 0.7 , 0.66, 0.77, 0.77, 0.74, 0.54, 0.86, 0.48, 0.72, 0.75,\n",
       "       0.85, 0.87, 0.73, 0.64, 0.84, 0.33, 0.28, 0.77, 0.75, 0.73, 0.69,\n",
       "       0.67, 0.86, 0.79, 0.93, 0.82, 0.7 , 0.85, 0.94, 0.67, 0.77, 0.58,\n",
       "       0.52, 0.69, 0.59, 0.84, 0.79, 0.66, 0.78, 0.79, 0.69, 0.82, 0.83,\n",
       "       0.89, 0.67, 0.78, 0.79, 0.82, 0.88, 0.84, 0.89, 0.12, 0.52, 0.57,\n",
       "       0.66, 0.87, 0.57, 0.86, 0.81, 0.86, 0.86, 0.84, 0.84, 0.65, 0.64,\n",
       "       0.66, 0.86, 0.84, 0.82, 0.77, 0.42, 0.74, 0.76, 0.83, 0.41, 0.82,\n",
       "       0.55, 0.84, 0.7 , 0.82, 0.43, 0.56, 0.66, 0.57, 0.55, 0.84, 0.84,\n",
       "       0.84, 0.76, 0.51, 0.78, 0.87, 0.69, 0.83, 0.81, 0.77, 0.27, 0.79,\n",
       "       0.84, 0.82, 0.89, 0.83, 0.74, 0.84, 0.58, 0.63, 0.61, 0.8 , 0.81,\n",
       "       0.77, 0.85, 0.52, 0.86, 0.82, 0.56, 0.85, 0.62, 0.76, 0.84, 0.8 ,\n",
       "       0.57, 0.88, 0.56, 0.71, 0.72, 0.83, 0.47, 0.74, 0.54, 0.7 , 0.7 ,\n",
       "       0.89, 0.74, 0.31, 0.89, 0.69, 0.79, 0.89, 0.81, 0.7 , 0.52, 0.56,\n",
       "       0.77, 0.81, 0.8 , 0.86, 0.64, 0.45, 0.54, 0.52, 0.7 , 0.67, 0.49,\n",
       "       0.81, 0.56, 0.79, 0.86, 0.81, 0.87, 0.84, 0.6 , 0.79, 0.88, 0.82,\n",
       "       0.72, 0.53, 0.66, 0.72, 0.69, 0.87, 0.8 , 0.44, 0.79, 0.8 , 0.77,\n",
       "       0.58, 0.85, 0.4 , 0.78, 0.84, 0.84, 0.46, 0.48, 0.83, 0.19, 0.63,\n",
       "       0.75, 0.78, 0.87, 0.75, 0.81, 0.7 , 0.45, 0.73, 0.09, 0.49, 0.56,\n",
       "       0.7 , 0.68, 0.62, 0.79, 0.86, 0.7 , 0.67, 0.74, 0.74, 0.84, 0.73,\n",
       "       0.81, 0.73, 0.53, 0.82, 0.67, 0.87, 0.91, 0.74, 0.88, 0.76, 0.75,\n",
       "       0.64, 0.76, 0.85, 0.79, 0.65, 0.76, 0.63, 0.78, 0.71, 0.51, 0.52,\n",
       "       0.54, 0.77, 0.68, 0.84, 0.54, 0.73, 0.82, 0.89, 0.84, 0.68, 0.86,\n",
       "       0.86, 0.71, 0.83, 0.71, 0.82, 0.71, 0.53, 0.83, 0.79, 0.82, 0.86,\n",
       "       0.76, 0.79, 0.84, 0.87, 0.74, 0.69, 0.45, 0.7 , 0.8 , 0.58, 0.77,\n",
       "       0.71, 0.51, 0.43, 0.82, 0.8 , 0.71, 0.54, 0.74, 0.79, 0.74, 0.75,\n",
       "       0.84, 0.74, 0.63, 0.89, 0.46, 0.8 , 0.8 , 0.86, 0.74, 0.54, 0.82,\n",
       "       0.78, 0.67, 0.39, 0.86, 0.7 , 0.3 , 0.78, 0.74, 0.59, 0.5 , 0.82,\n",
       "       0.89, 0.64, 0.5 , 0.17, 0.84, 0.8 , 0.83, 0.53, 0.68, 0.55, 0.82,\n",
       "       0.76, 0.86, 0.88, 0.43, 0.7 , 0.86, 0.82, 0.91, 0.83, 0.58, 0.6 ,\n",
       "       0.84, 0.83, 0.51, 0.63, 0.72, 0.56, 0.59, 0.83, 0.87, 0.87, 0.87,\n",
       "       0.26, 0.84, 0.86, 0.58, 0.69, 0.37, 0.77, 0.87, 0.74, 0.8 , 0.79,\n",
       "       0.68, 0.79, 0.73, 0.91, 0.92, 0.66, 0.74, 0.16, 0.81, 0.8 , 0.61,\n",
       "       0.65, 0.67, 0.68, 0.79, 0.69, 0.88, 0.79, 0.74, 0.77, 0.84, 0.74,\n",
       "       0.79, 0.79, 0.66, 0.84, 0.69, 0.72, 0.6 , 0.28, 0.67, 0.84, 0.89,\n",
       "       0.79, 0.88, 0.76, 0.69, 0.88, 0.82, 0.86, 0.54, 0.58, 0.39, 0.79,\n",
       "       0.8 , 0.59, 0.69, 0.89, 0.81, 0.92, 0.79, 0.75, 0.84, 0.83, 0.25,\n",
       "       0.82, 0.75, 0.72, 0.52, 0.84, 0.75, 0.4 , 0.86, 0.48, 0.81, 0.53,\n",
       "       0.9 , 0.7 , 0.84, 0.7 , 0.82, 0.81, 0.68, 0.66, 0.72, 0.84, 0.78,\n",
       "       0.57, 0.8 , 0.76, 0.73, 0.72, 0.61, 0.87, 0.55, 0.79, 0.92, 0.81,\n",
       "       0.65, 0.67, 0.76, 0.55, 0.65, 0.51, 0.84, 0.82, 0.73, 0.4 , 0.6 ,\n",
       "       0.14, 0.88, 0.73, 0.76, 0.44, 0.48, 0.77, 0.81, 0.63, 0.86, 0.72,\n",
       "       0.9 , 0.61, 0.88, 0.77, 0.51, 0.74, 0.86, 0.61, 0.78, 0.9 , 0.3 ,\n",
       "       0.35, 0.78, 0.52, 0.66, 0.73, 0.8 , 0.92, 0.75, 0.84, 0.75, 0.83,\n",
       "       0.91, 0.82, 0.82, 0.85, 0.77, 0.79, 0.89, 0.79, 0.82, 0.78, 0.56,\n",
       "       0.78, 0.71, 0.66, 0.75, 0.75, 0.78, 0.58, 0.75, 0.56, 0.77, 0.79,\n",
       "       0.77, 0.86, 0.84, 0.78, 0.73, 0.64, 0.65, 0.64, 0.72, 0.4 , 0.82,\n",
       "       0.72, 0.53, 0.74, 0.6 , 0.32, 0.6 , 0.8 , 0.79, 0.83, 0.52]))"
      ]
     },
     "execution_count": 217,
     "metadata": {},
     "output_type": "execute_result"
    }
   ],
   "source": [
    "stats[58]"
   ]
  },
  {
   "cell_type": "code",
   "execution_count": 216,
   "id": "beautiful-albert",
   "metadata": {},
   "outputs": [
    {
     "data": {
      "text/plain": [
       "PlayerStats(num_correct=9033, mean_correct_difficulty=0.44790656481789, std_dev_correct_difficulties=0.23253599589714813, correct_difficulties=array([0.19, 0.11, 0.23, ..., 0.19, 0.23, 0.45]), incorrect_difficulties=array([0.77, 0.86, 0.45, 0.81, 0.73, 0.84, 0.65, 0.81, 0.83, 0.75, 0.69,\n",
       "       0.61, 0.38, 0.52, 0.86, 0.59, 0.85, 0.84, 0.73, 0.83, 0.69, 0.62,\n",
       "       0.48, 0.71, 0.43, 0.61, 0.72, 0.87, 0.85, 0.38, 0.88, 0.51, 0.74,\n",
       "       0.69, 0.55, 0.66, 0.76, 0.88, 0.74, 0.4 , 0.67, 0.57, 0.85, 0.61,\n",
       "       0.83, 0.71, 0.78, 0.82, 0.75, 0.58, 0.88, 0.77, 0.72, 0.8 , 0.51,\n",
       "       0.8 , 0.42, 0.75, 0.88, 0.85, 0.51, 0.49, 0.76, 0.75, 0.36, 0.62,\n",
       "       0.68, 0.77, 0.9 , 0.78, 0.83, 0.8 , 0.63, 0.74, 0.52, 0.81, 0.2 ,\n",
       "       0.76, 0.79, 0.6 , 0.74, 0.66, 0.39, 0.91, 0.39, 0.91, 0.76, 0.9 ,\n",
       "       0.58, 0.71, 0.53, 0.82, 0.54, 0.41, 0.3 , 0.85, 0.7 , 0.84, 0.88,\n",
       "       0.4 , 0.87, 0.83, 0.72, 0.76, 0.78, 0.77, 0.59, 0.76, 0.77, 0.88,\n",
       "       0.56, 0.64, 0.62, 0.29, 0.7 , 0.64, 0.86, 0.83, 0.7 , 0.85, 0.9 ,\n",
       "       0.54, 0.81, 0.38, 0.26, 0.66, 0.75, 0.82, 0.62, 0.52, 0.59, 0.87,\n",
       "       0.92, 0.47, 0.83, 0.85, 0.5 , 0.48, 0.87, 0.8 , 0.81, 0.88, 0.69,\n",
       "       0.72, 0.67, 0.48, 0.85, 0.72, 0.78, 0.83, 0.69, 0.78, 0.65, 0.86,\n",
       "       0.86, 0.63, 0.82, 0.43, 0.86, 0.81, 0.82, 0.68, 0.16, 0.74, 0.79,\n",
       "       0.75, 0.74, 0.59, 0.71, 0.71, 0.74, 0.68, 0.84, 0.57, 0.73, 0.77,\n",
       "       0.82, 0.7 , 0.71, 0.78, 0.81, 0.82, 0.41, 0.8 , 0.81, 0.7 , 0.7 ,\n",
       "       0.65, 0.6 , 0.61, 0.48, 0.85, 0.79, 0.68, 0.64, 0.59, 0.39, 0.8 ,\n",
       "       0.75, 0.55, 0.86, 0.73, 0.49, 0.79, 0.62, 0.8 , 0.82, 0.83, 0.47,\n",
       "       0.79, 0.29, 0.89, 0.88, 0.68, 0.68, 0.78, 0.79, 0.33, 0.73, 0.72,\n",
       "       0.44, 0.74, 0.76, 0.78, 0.74, 0.54, 0.79, 0.73, 0.54, 0.81, 0.8 ,\n",
       "       0.72, 0.89, 0.84, 0.88, 0.64, 0.9 , 0.54, 0.67, 0.83, 0.47, 0.84,\n",
       "       0.51, 0.63, 0.58, 0.78, 0.74, 0.76, 0.83, 0.74, 0.8 , 0.77, 0.52,\n",
       "       0.6 , 0.82, 0.76, 0.79, 0.78, 0.58, 0.8 , 0.8 , 0.49, 0.81, 0.75,\n",
       "       0.72, 0.86, 0.85, 0.76, 0.65, 0.84, 0.13, 0.64, 0.57, 0.84, 0.43,\n",
       "       0.87, 0.86, 0.75, 0.7 , 0.89, 0.65, 0.47, 0.71, 0.74, 0.69, 0.5 ,\n",
       "       0.9 , 0.63, 0.66, 0.69, 0.54, 0.91, 0.82, 0.61, 0.87, 0.62, 0.93,\n",
       "       0.36, 0.86, 0.48, 0.31, 0.61, 0.79, 0.76, 0.84, 0.7 , 0.74, 0.92,\n",
       "       0.67, 0.82, 0.67, 0.73, 0.83, 0.72, 0.75, 0.79, 0.79, 0.88, 0.68,\n",
       "       0.67, 0.82, 0.5 , 0.85, 0.69, 0.76, 0.83, 0.82, 0.68, 0.86, 0.85,\n",
       "       0.76, 0.86, 0.91, 0.85, 0.57, 0.79, 0.34, 0.77, 0.83, 0.79, 0.8 ,\n",
       "       0.86, 0.86, 0.87, 0.75, 0.84, 0.78, 0.75, 0.87, 0.77, 0.86, 0.77,\n",
       "       0.72, 0.9 , 0.81, 0.59, 0.73, 0.8 , 0.68, 0.77, 0.76, 0.74, 0.61,\n",
       "       0.79, 0.75, 0.63, 0.58, 0.73, 0.85, 0.57, 0.54, 0.62, 0.84, 0.74,\n",
       "       0.83, 0.55, 0.86, 0.77, 0.87, 0.72, 0.55, 0.49, 0.45, 0.4 , 0.72,\n",
       "       0.84, 0.71, 0.86, 0.47, 0.82, 0.81, 0.65, 0.67, 0.71, 0.46, 0.63,\n",
       "       0.68, 0.75, 0.56, 0.69, 0.65, 0.87, 0.66, 0.86, 0.73, 0.83, 0.9 ,\n",
       "       0.93, 0.6 , 0.7 , 0.87, 0.83, 0.82, 0.89, 0.74, 0.64, 0.51, 0.75,\n",
       "       0.84, 0.78, 0.74, 0.82, 0.72, 0.76, 0.83, 0.8 , 0.4 , 0.83, 0.77,\n",
       "       0.86, 0.85, 0.75, 0.4 , 0.88, 0.82, 0.8 , 0.54, 0.45, 0.49, 0.4 ,\n",
       "       0.78, 0.86, 0.53, 0.71, 0.57, 0.75, 0.58, 0.71, 0.83, 0.86, 0.75,\n",
       "       0.86, 0.7 , 0.66, 0.77, 0.77, 0.74, 0.54, 0.86, 0.48, 0.72, 0.75,\n",
       "       0.85, 0.87, 0.73, 0.64, 0.84, 0.33, 0.28, 0.77, 0.75, 0.73, 0.69,\n",
       "       0.67, 0.86, 0.79, 0.93, 0.82, 0.7 , 0.85, 0.94, 0.67, 0.77, 0.58,\n",
       "       0.52, 0.69, 0.59, 0.84, 0.79, 0.66, 0.78, 0.79, 0.69, 0.82, 0.83,\n",
       "       0.89, 0.67, 0.78, 0.79, 0.82, 0.88, 0.84, 0.89, 0.12, 0.52, 0.57,\n",
       "       0.66, 0.87, 0.57, 0.86, 0.81, 0.86, 0.86, 0.84, 0.84, 0.65, 0.64,\n",
       "       0.66, 0.86, 0.84, 0.82, 0.77, 0.42, 0.74, 0.76, 0.83, 0.41, 0.82,\n",
       "       0.55, 0.84, 0.7 , 0.82, 0.43, 0.56, 0.66, 0.57, 0.55, 0.84, 0.84,\n",
       "       0.84, 0.76, 0.51, 0.78, 0.87, 0.69, 0.83, 0.81, 0.77, 0.27, 0.79,\n",
       "       0.84, 0.82, 0.89, 0.83, 0.74, 0.84, 0.58, 0.63, 0.61, 0.8 , 0.81,\n",
       "       0.77, 0.85, 0.52, 0.86, 0.82, 0.56, 0.85, 0.62, 0.76, 0.84, 0.8 ,\n",
       "       0.57, 0.88, 0.56, 0.71, 0.72, 0.83, 0.47, 0.74, 0.54, 0.7 , 0.7 ,\n",
       "       0.89, 0.74, 0.31, 0.89, 0.69, 0.79, 0.89, 0.81, 0.7 , 0.52, 0.56,\n",
       "       0.77, 0.81, 0.8 , 0.86, 0.64, 0.45, 0.54, 0.52, 0.7 , 0.67, 0.49,\n",
       "       0.81, 0.56, 0.79, 0.86, 0.81, 0.87, 0.84, 0.6 , 0.79, 0.88, 0.82,\n",
       "       0.72, 0.53, 0.66, 0.72, 0.69, 0.87, 0.8 , 0.44, 0.79, 0.8 , 0.77,\n",
       "       0.58, 0.85, 0.4 , 0.78, 0.84, 0.84, 0.46, 0.48, 0.83, 0.19, 0.63,\n",
       "       0.75, 0.78, 0.87, 0.75, 0.81, 0.7 , 0.45, 0.73, 0.09, 0.49, 0.56,\n",
       "       0.7 , 0.68, 0.62, 0.79, 0.86, 0.7 , 0.67, 0.74, 0.74, 0.84, 0.73,\n",
       "       0.81, 0.73, 0.53, 0.82, 0.67, 0.87, 0.91, 0.74, 0.88, 0.76, 0.75,\n",
       "       0.64, 0.76, 0.85, 0.79, 0.65, 0.76, 0.63, 0.78, 0.71, 0.51, 0.52,\n",
       "       0.54, 0.77, 0.68, 0.84, 0.54, 0.73, 0.82, 0.89, 0.84, 0.68, 0.86,\n",
       "       0.86, 0.71, 0.83, 0.71, 0.82, 0.71, 0.53, 0.83, 0.79, 0.82, 0.86,\n",
       "       0.76, 0.79, 0.84, 0.87, 0.74, 0.69, 0.45, 0.7 , 0.8 , 0.58, 0.77,\n",
       "       0.71, 0.51, 0.43, 0.82, 0.8 , 0.71, 0.54, 0.74, 0.79, 0.74, 0.75,\n",
       "       0.84, 0.74, 0.63, 0.89, 0.46, 0.8 , 0.8 , 0.86, 0.74, 0.54, 0.82,\n",
       "       0.78, 0.67, 0.39, 0.86, 0.7 , 0.3 , 0.78, 0.74, 0.59, 0.5 , 0.82,\n",
       "       0.89, 0.64, 0.5 , 0.17, 0.84, 0.8 , 0.83, 0.53, 0.68, 0.55, 0.82,\n",
       "       0.76, 0.86, 0.88, 0.43, 0.7 , 0.86, 0.82, 0.91, 0.83, 0.58, 0.6 ,\n",
       "       0.84, 0.83, 0.51, 0.63, 0.72, 0.56, 0.59, 0.83, 0.87, 0.87, 0.87,\n",
       "       0.26, 0.84, 0.86, 0.58, 0.69, 0.37, 0.77, 0.87, 0.74, 0.8 , 0.79,\n",
       "       0.68, 0.79, 0.73, 0.91, 0.92, 0.66, 0.74, 0.16, 0.81, 0.8 , 0.61,\n",
       "       0.65, 0.67, 0.68, 0.79, 0.69, 0.88, 0.79, 0.74, 0.77, 0.84, 0.74,\n",
       "       0.79, 0.79, 0.66, 0.84, 0.69, 0.72, 0.6 , 0.28, 0.67, 0.84, 0.89,\n",
       "       0.79, 0.88, 0.76, 0.69, 0.88, 0.82, 0.86, 0.54, 0.58, 0.39, 0.79,\n",
       "       0.8 , 0.59, 0.69, 0.89, 0.81, 0.92, 0.79, 0.75, 0.84, 0.83, 0.25,\n",
       "       0.82, 0.75, 0.72, 0.52, 0.84, 0.75, 0.4 , 0.86, 0.48, 0.81, 0.53,\n",
       "       0.9 , 0.7 , 0.84, 0.7 , 0.82, 0.81, 0.68, 0.66, 0.72, 0.84, 0.78,\n",
       "       0.57, 0.8 , 0.76, 0.73, 0.72, 0.61, 0.87, 0.55, 0.79, 0.92, 0.81,\n",
       "       0.65, 0.67, 0.76, 0.55, 0.65, 0.51, 0.84, 0.82, 0.73, 0.4 , 0.6 ,\n",
       "       0.14, 0.88, 0.73, 0.76, 0.44, 0.48, 0.77, 0.81, 0.63, 0.86, 0.72,\n",
       "       0.9 , 0.61, 0.88, 0.77, 0.51, 0.74, 0.86, 0.61, 0.78, 0.9 , 0.3 ,\n",
       "       0.35, 0.78, 0.52, 0.66, 0.73, 0.8 , 0.92, 0.75, 0.84, 0.75, 0.83,\n",
       "       0.91, 0.82, 0.82, 0.85, 0.77, 0.79, 0.89, 0.79, 0.82, 0.78, 0.56,\n",
       "       0.78, 0.71, 0.66, 0.75, 0.75, 0.78, 0.58, 0.75, 0.56, 0.77, 0.79,\n",
       "       0.77, 0.86, 0.84, 0.78, 0.73, 0.64, 0.65, 0.64, 0.72, 0.4 , 0.82,\n",
       "       0.72, 0.53, 0.74, 0.6 , 0.32, 0.6 , 0.8 , 0.79, 0.83, 0.52]))"
      ]
     },
     "execution_count": 216,
     "metadata": {},
     "output_type": "execute_result"
    }
   ],
   "source": [
    "max(stats, key=lambda x: x.std_dev_correct_difficulties)"
   ]
  },
  {
   "cell_type": "code",
   "execution_count": null,
   "id": "united-niger",
   "metadata": {},
   "outputs": [],
   "source": []
  }
 ],
 "metadata": {
  "kernelspec": {
   "display_name": "Python 3",
   "language": "python",
   "name": "python3"
  },
  "language_info": {
   "codemirror_mode": {
    "name": "ipython",
    "version": 3
   },
   "file_extension": ".py",
   "mimetype": "text/x-python",
   "name": "python",
   "nbconvert_exporter": "python",
   "pygments_lexer": "ipython3",
   "version": "3.8.6"
  }
 },
 "nbformat": 4,
 "nbformat_minor": 5
}
