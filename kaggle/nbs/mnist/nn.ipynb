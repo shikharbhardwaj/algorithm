{
 "cells": [
  {
   "attachments": {},
   "cell_type": "markdown",
   "metadata": {},
   "source": [
    "**Table of contents**<a id='toc0_'></a>    \n",
    "- [MNIST digit classification problem — NN](#toc1_)    \n",
    "  - [Parameters and constants](#toc1_1_)    \n",
    "  - [Setup mlflow for experiment tracking](#toc1_2_)    \n",
    "  - [Load the dataset](#toc1_3_)    \n",
    "  - [Model 2: Fully connected neural net](#toc1_4_)    \n",
    "\n",
    "<!-- vscode-jupyter-toc-config\n",
    "\tnumbering=false\n",
    "\tanchor=true\n",
    "\tflat=false\n",
    "\tminLevel=1\n",
    "\tmaxLevel=6\n",
    "\t/vscode-jupyter-toc-config -->\n",
    "<!-- THIS CELL WILL BE REPLACED ON TOC UPDATE. DO NOT WRITE YOUR TEXT IN THIS CELL -->"
   ]
  },
  {
   "attachments": {},
   "cell_type": "markdown",
   "metadata": {},
   "source": [
    "# <a id='toc1_'></a>[MNIST digit classification problem — NN](#toc0_)\n",
    "\n",
    "Attempting the digit classification problem with a fully connected neural net.\n"
   ]
  },
  {
   "cell_type": "code",
   "execution_count": 3,
   "metadata": {},
   "outputs": [
    {
     "name": "stderr",
     "output_type": "stream",
     "text": [
      "/home/shikhar/.pyenv/versions/3.10.6/envs/kaggle/lib/python3.10/site-packages/tqdm/auto.py:22: TqdmWarning: IProgress not found. Please update jupyter and ipywidgets. See https://ipywidgets.readthedocs.io/en/stable/user_install.html\n",
      "  from .autonotebook import tqdm as notebook_tqdm\n"
     ]
    }
   ],
   "source": [
    "import os\n",
    "import pathlib\n",
    "import pickle\n",
    "\n",
    "import mlflow\n",
    "import mlflow.sklearn\n",
    "import numpy as np\n",
    "import matplotlib.pyplot as plt\n",
    "from datasets import load_dataset\n",
    "from sklearn.model_selection import train_test_split"
   ]
  },
  {
   "attachments": {},
   "cell_type": "markdown",
   "metadata": {},
   "source": [
    "## <a id='toc1_1_'></a>[Parameters and constants](#toc0_)"
   ]
  },
  {
   "cell_type": "code",
   "execution_count": 4,
   "metadata": {},
   "outputs": [],
   "source": [
    "TRAIN_SET_SIZE = 50_000\n",
    "SPLIT_SEED = 123\n",
    "EXPERIMENT_DIR = pathlib.Path('/data/kaggle/mnist')"
   ]
  },
  {
   "attachments": {},
   "cell_type": "markdown",
   "metadata": {},
   "source": [
    "## <a id='toc1_2_'></a>[Setup mlflow for experiment tracking](#toc0_)"
   ]
  },
  {
   "cell_type": "code",
   "execution_count": 5,
   "metadata": {},
   "outputs": [],
   "source": [
    "mlflow.set_tracking_uri(\"https://mlflow.tenzing.shkhr.ovh\")\n",
    "# experiment_id = mlflow.create_experiment('mnist-digits', artifact_location='s3://mlflow/mnist')\n",
    "experiment = mlflow.set_experiment('mnist-digits')\n",
    "os.environ['MLFLOW_S3_ENDPOINT_URL'] = 'https://minio-api.tenzing.shkhr.ovh'"
   ]
  },
  {
   "attachments": {},
   "cell_type": "markdown",
   "metadata": {},
   "source": [
    "## <a id='toc1_3_'></a>[Load the dataset](#toc0_)\n",
    "\n",
    "Load the MNIST dataset and generate the train, validation and test splits and view a few random training samples."
   ]
  },
  {
   "cell_type": "code",
   "execution_count": 6,
   "metadata": {},
   "outputs": [
    {
     "name": "stderr",
     "output_type": "stream",
     "text": [
      "Found cached dataset mnist (/home/shikhar/.cache/huggingface/datasets/mnist/mnist/1.0.0/9d494b7f466d6931c64fb39d58bb1249a4d85c9eb9865d9bc20960b999e2a332)\n",
      "100%|██████████| 2/2 [00:00<00:00, 42.39it/s]\n"
     ]
    }
   ],
   "source": [
    "dataset = load_dataset('mnist')\n",
    "train_set, validation_set = train_test_split(dataset['train'], train_size=TRAIN_SET_SIZE, random_state=SPLIT_SEED)\n",
    "test_set = {'image': list(dataset['test']['image']), 'label': list(dataset['test']['label'])}"
   ]
  },
  {
   "cell_type": "code",
   "execution_count": 7,
   "metadata": {},
   "outputs": [
    {
     "data": {
      "image/png": "[encoded data removed]",
      "text/plain": [
       "<Figure size 1200x600 with 10 Axes>"
      ]
     },
     "metadata": {},
     "output_type": "display_data"
    }
   ],
   "source": [
    "fig, axes = plt.subplots(2, 5, figsize=(12, 6))\n",
    "fig.suptitle('MNIST Samples', fontsize=16)\n",
    "\n",
    "for i, ax in enumerate(axes.flatten()):\n",
    "    sample_idx = np.random.randint(0, len(train_set['image']))\n",
    "    sample_image, sample_label = train_set['image'][sample_idx], train_set['label'][sample_idx]\n",
    "\n",
    "    ax.imshow(sample_image, cmap='gray')\n",
    "    ax.set_title(f'Label: {sample_label}')\n",
    "    ax.axis('off')\n",
    "\n",
    "plt.tight_layout()\n",
    "plt.show()"
   ]
  },
  {
   "attachments": {},
   "cell_type": "markdown",
   "metadata": {},
   "source": [
    "## <a id='toc1_4_'></a>[Model 2: Fully connected neural net](#toc0_)"
   ]
  },
  {
   "cell_type": "code",
   "execution_count": 8,
   "metadata": {},
   "outputs": [],
   "source": [
    "import torch\n",
    "import torch.nn as nn\n",
    "import torch.optim as optim\n",
    "from torchvision import transforms\n",
    "\n",
    "from typing import List"
   ]
  },
  {
   "cell_type": "code",
   "execution_count": 9,
   "metadata": {},
   "outputs": [],
   "source": [
    "class FullyConnectedNet(nn.Module):\n",
    "    def __init__(self, sizes: List[int]):\n",
    "        if len(sizes) != 2:\n",
    "            raise ValueError('Only supports network with 1 hidden layer')\n",
    "\n",
    "        super(FullyConnectedNet, self).__init__()\n",
    "        self._fc1 = nn.Linear(784, sizes[0])\n",
    "        self._fc2 = nn.Linear(sizes[0], sizes[1])\n",
    "        self._fc3 = nn.Linear(64, 10)\n",
    "    \n",
    "    def forward(self, x):\n",
    "        x = x.view(-1, 784)\n",
    "        x = torch.relu(self._fc1(x))\n",
    "        x = torch.relu(self._fc2(x))\n",
    "        x = self._fc3(x)\n",
    "        return torch.log_softmax(x, dim=1)"
   ]
  },
  {
   "cell_type": "code",
   "execution_count": 72,
   "metadata": {},
   "outputs": [],
   "source": [
    "# Set random seed for reproducibility\n",
    "torch.manual_seed(42)\n",
    "\n",
    "# Define the transforms to preprocess the data\n",
    "transform = transforms.Compose([\n",
    "    transforms.ToTensor(),\n",
    "    transforms.Normalize((0.1307,), (0.3081,))\n",
    "])\n",
    "\n",
    "class MNISTDataset(torch.utils.data.Dataset):\n",
    "    def __init__(self, data, transform=None):\n",
    "        self.data = data\n",
    "        self.transform = transform\n",
    "    \n",
    "    def __getitem__(self, index):\n",
    "        image = self.data['image'][index]\n",
    "        label = self.data['label'][index]\n",
    "        if self.transform is not None:\n",
    "            image = self.transform(image)\n",
    "        return image, label\n",
    "\n",
    "    def __len__(self):\n",
    "        return len(self.data['image'])\n",
    "\n",
    "train_dataset = MNISTDataset(train_set, transform)\n",
    "validation_dataset = MNISTDataset(validation_set, transform)\n",
    "test_dataset = MNISTDataset(test_set, transform)\n",
    "\n",
    "# Define the data loaders\n",
    "train_loader = torch.utils.data.DataLoader(train_dataset, batch_size=128, shuffle=True)\n",
    "validation_loader = torch.utils.data.DataLoader(validation_dataset, batch_size=128, shuffle=True)\n",
    "test_loader = torch.utils.data.DataLoader(test_dataset, batch_size=128, shuffle=False)\n"
   ]
  },
  {
   "cell_type": "code",
   "execution_count": 96,
   "metadata": {},
   "outputs": [],
   "source": [
    "# %%time\n",
    "\n",
    "device = torch.device('cuda' if torch.cuda.is_available() else 'cpu')\n",
    "\n",
    "def eval_model(net, loader, criterion):\n",
    "    net.eval()\n",
    "    test_loss = 0\n",
    "    correct = 0\n",
    "\n",
    "    with torch.no_grad():\n",
    "        for data, target in loader:\n",
    "            data, target = data.to(device), target.to(device)\n",
    "            # data = torch.unsqueeze(data, 1)\n",
    "            output = net(data)\n",
    "            test_loss += criterion(output, target).item()\n",
    "            pred = output.argmax(dim=1, keepdim=True)\n",
    "            correct += pred.eq(target.view_as(pred)).sum().item()\n",
    "\n",
    "    test_loss /= len(test_loader.dataset)\n",
    "    accuracy = correct / len(test_loader.dataset)\n",
    "\n",
    "    # Print the results for each epoch\n",
    "    return accuracy, test_loss\n",
    "\n",
    "def train_mnist_model(net: nn.Module, criterion: nn.Module, learning_rate: float, epoch_count: int):\n",
    "    optimizer = optim.Adam(net.parameters(), lr=learning_rate)\n",
    "\n",
    "\n",
    "    for epoch in range(epoch_count):\n",
    "        net.train()\n",
    "\n",
    "        for batch_idx, (data, target) in enumerate(train_loader):\n",
    "            data, target = data.to(device), target.to(device)\n",
    "            # data = torch.unsqueeze(data, 1)\n",
    "            optimizer.zero_grad()\n",
    "            output = net(data)\n",
    "            loss = criterion(output, target)\n",
    "            loss.backward()\n",
    "            optimizer.step()\n",
    "        \n",
    "        accuracy, test_loss = eval_model(net, validation_loader, criterion)\n",
    "        print(f'Epoch {epoch+1}: Test Loss: {test_loss:.4f}, Accuracy: {accuracy:.2f}')\n"
   ]
  },
  {
   "cell_type": "code",
   "execution_count": 29,
   "metadata": {},
   "outputs": [
    {
     "name": "stdout",
     "output_type": "stream",
     "text": [
      "Epoch 1: Test Loss: 0.0012, Accuracy: 0.95\n",
      "Epoch 2: Test Loss: 0.0009, Accuracy: 0.96\n",
      "Epoch 3: Test Loss: 0.0008, Accuracy: 0.97\n",
      "Epoch 4: Test Loss: 0.0008, Accuracy: 0.97\n",
      "Epoch 5: Test Loss: 0.0009, Accuracy: 0.97\n",
      "Epoch 6: Test Loss: 0.0009, Accuracy: 0.97\n",
      "Epoch 7: Test Loss: 0.0008, Accuracy: 0.97\n",
      "Epoch 8: Test Loss: 0.0009, Accuracy: 0.97\n",
      "Epoch 9: Test Loss: 0.0009, Accuracy: 0.97\n",
      "Epoch 10: Test Loss: 0.0008, Accuracy: 0.98\n"
     ]
    }
   ],
   "source": [
    "\n",
    "with mlflow.start_run(run_name='fc-nn', description='Fully connected neural net', experiment_id=experiment.experiment_id) as run:\n",
    "    net_size = [128, 64]\n",
    "    learning_rate = 0.002\n",
    "    epoch_count = 10\n",
    "    mlflow.log_param(\"layer_size\", net_size)\n",
    "    mlflow.log_param(\"learning_rate\", 0.001)\n",
    "    mlflow.log_param(\"epoch_count\", 10)\n",
    "    mlflow.log_param(\"gpu\", \"true\")\n",
    "\n",
    "    criterion = nn.CrossEntropyLoss()\n",
    "    net = FullyConnectedNet(sizes=net_size).to(device)\n",
    "\n",
    "    train_mnist_model(net, criterion, learning_rate, epoch_count)\n",
    "    \n",
    "    model_path = EXPERIMENT_DIR / run.info.run_id / 'model.pkl'\n",
    "    model_path.parent.mkdir(exist_ok=True)\n",
    "    torch.save(net.state_dict(), model_path)\n",
    "    \n",
    "    mlflow.log_artifact(model_path)\n",
    "\n",
    "    validation_accuracy, _ = eval_model(net, validation_loader, criterion)\n",
    "    test_accuracy, _ = eval_model(net, test_loader, criterion)\n",
    "    mlflow.log_metric('validation_accuracy', validation_accuracy)\n",
    "    mlflow.log_metric('test_accuracy', test_accuracy)"
   ]
  },
  {
   "attachments": {},
   "cell_type": "markdown",
   "metadata": {},
   "source": [
    "## Model 3: Convolutional neural net "
   ]
  },
  {
   "cell_type": "code",
   "execution_count": 97,
   "metadata": {},
   "outputs": [],
   "source": [
    "class ConvolutionalNeuralNet(nn.Module):\n",
    "    def __init__(self):\n",
    "        super(ConvolutionalNeuralNet, self).__init__()\n",
    "        self._conv1 = nn.Conv2d(1, 32, kernel_size=3, stride=1)\n",
    "        self._pool1 = nn.MaxPool2d(kernel_size=2, stride=2)\n",
    "        self._conv2 = nn.Conv2d(32, 64, kernel_size=3, stride=1)\n",
    "        self._fc1 = nn.Linear(7744, 128)\n",
    "        self._fc2 = nn.Linear(128, 10)\n",
    "\n",
    "    def forward(self, x):\n",
    "        x = torch.relu(self._conv1(x))\n",
    "        x = self._pool1(x)\n",
    "        x = torch.relu(self._conv2(x))\n",
    "        x = x.view(x.size(0), -1)\n",
    "        x = torch.relu(self._fc1(x))\n",
    "        x = self._fc2(x)\n",
    "\n",
    "        return torch.log_softmax(x, dim=1)"
   ]
  },
  {
   "cell_type": "code",
   "execution_count": 98,
   "metadata": {},
   "outputs": [
    {
     "name": "stdout",
     "output_type": "stream",
     "text": [
      "Epoch 1: Test Loss: 0.0005, Accuracy: 0.98\n",
      "Epoch 2: Test Loss: 0.0005, Accuracy: 0.98\n",
      "Epoch 3: Test Loss: 0.0004, Accuracy: 0.99\n",
      "Epoch 4: Test Loss: 0.0004, Accuracy: 0.99\n",
      "Epoch 5: Test Loss: 0.0005, Accuracy: 0.99\n",
      "Epoch 6: Test Loss: 0.0005, Accuracy: 0.99\n",
      "Epoch 7: Test Loss: 0.0005, Accuracy: 0.99\n",
      "Epoch 8: Test Loss: 0.0006, Accuracy: 0.99\n",
      "Epoch 9: Test Loss: 0.0005, Accuracy: 0.99\n",
      "Epoch 10: Test Loss: 0.0005, Accuracy: 0.99\n"
     ]
    }
   ],
   "source": [
    "with mlflow.start_run(run_name='cnn', description='Convolutional neural network', experiment_id=experiment.experiment_id) as run:\n",
    "    net_size = ['c2d 1,32', 'c2d 32,64', '1600', '128']\n",
    "    learning_rate = 0.002\n",
    "    epoch_count = 10\n",
    "    mlflow.log_param(\"layer_size\", net_size)\n",
    "    mlflow.log_param(\"learning_rate\", 0.001)\n",
    "    mlflow.log_param(\"epoch_count\", 10)\n",
    "    mlflow.log_param(\"gpu\", \"true\")\n",
    "\n",
    "    criterion = nn.CrossEntropyLoss()\n",
    "    net = ConvolutionalNeuralNet().to(device)\n",
    "\n",
    "    train_mnist_model(net, criterion, learning_rate, epoch_count)\n",
    "    \n",
    "    model_path = EXPERIMENT_DIR / run.info.run_id / 'model.pkl'\n",
    "    model_path.parent.mkdir(exist_ok=True)\n",
    "    torch.save(net.state_dict(), model_path)\n",
    "    \n",
    "    mlflow.log_artifact(model_path)\n",
    "\n",
    "    validation_accuracy, _ = eval_model(net, validation_loader, criterion)\n",
    "    test_accuracy, _ = eval_model(net, test_loader, criterion)\n",
    "    mlflow.log_metric('validation_accuracy', validation_accuracy)\n",
    "    mlflow.log_metric('test_accuracy', test_accuracy)"
   ]
  },
  {
   "cell_type": "code",
   "execution_count": null,
   "metadata": {},
   "outputs": [],
   "source": []
  }
 ],
 "metadata": {
  "kernelspec": {
   "display_name": "kaggle",
   "language": "python",
   "name": "python3"
  },
  "language_info": {
   "codemirror_mode": {
    "name": "ipython",
    "version": 3
   },
   "file_extension": ".py",
   "mimetype": "text/x-python",
   "name": "python",
   "nbconvert_exporter": "python",
   "pygments_lexer": "ipython3",
   "version": "3.10.6"
  },
  "orig_nbformat": 4
 },
 "nbformat": 4,
 "nbformat_minor": 2
}
