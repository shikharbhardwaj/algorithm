{
 "cells": [
  {
   "attachments": {},
   "cell_type": "markdown",
   "metadata": {},
   "source": [
    "**Table of contents**<a id='toc0_'></a>    \n",
    "- [MNIST digit classification problem — SVM](#toc1_)    \n",
    "\n",
    "<!-- vscode-jupyter-toc-config\n",
    "\tnumbering=false\n",
    "\tanchor=true\n",
    "\tflat=false\n",
    "\tminLevel=1\n",
    "\tmaxLevel=6\n",
    "\t/vscode-jupyter-toc-config -->\n",
    "<!-- THIS CELL WILL BE REPLACED ON TOC UPDATE. DO NOT WRITE YOUR TEXT IN THIS CELL -->"
   ]
  },
  {
   "attachments": {},
   "cell_type": "markdown",
   "metadata": {},
   "source": [
    "# <a id='toc1_'></a>[MNIST digit classification problem — SVM](#toc0_)\n",
    "\n",
    "Attempting the digit classification problem with SVM classifier.\n"
   ]
  },
  {
   "cell_type": "code",
   "execution_count": 5,
   "metadata": {},
   "outputs": [],
   "source": [
    "import os\n",
    "import pathlib\n",
    "import pickle\n",
    "\n",
    "import mlflow\n",
    "import mlflow.sklearn\n",
    "import numpy as np\n",
    "import matplotlib.pyplot as plt\n",
    "from datasets import load_dataset\n",
    "from sklearn.model_selection import train_test_split"
   ]
  },
  {
   "attachments": {},
   "cell_type": "markdown",
   "metadata": {},
   "source": [
    "## Parameters and constants"
   ]
  },
  {
   "cell_type": "code",
   "execution_count": 6,
   "metadata": {},
   "outputs": [],
   "source": [
    "TRAIN_SET_SIZE = 50_000\n",
    "SPLIT_SEED = 123\n",
    "EXPERIMENT_DIR = pathlib.Path('/data/kaggle/mnist')"
   ]
  },
  {
   "attachments": {},
   "cell_type": "markdown",
   "metadata": {},
   "source": [
    "## Setup mlflow for experiment tracking"
   ]
  },
  {
   "cell_type": "code",
   "execution_count": 14,
   "metadata": {},
   "outputs": [],
   "source": [
    "mlflow.set_tracking_uri(\"https://mlflow.tenzing.shkhr.ovh\")\n",
    "# experiment_id = mlflow.create_experiment('mnist-digits', artifact_location='s3://mlflow/mnist')\n",
    "experiment = mlflow.set_experiment('mnist-digits')\n",
    "os.environ['MLFLOW_S3_ENDPOINT_URL'] = 'https://minio-api.tenzing.shkhr.ovh'"
   ]
  },
  {
   "attachments": {},
   "cell_type": "markdown",
   "metadata": {},
   "source": [
    "## Load the dataset\n",
    "\n",
    "Load the MNIST dataset and generate the train, validation and test splits and view a few random training samples."
   ]
  },
  {
   "cell_type": "code",
   "execution_count": 8,
   "metadata": {},
   "outputs": [
    {
     "name": "stderr",
     "output_type": "stream",
     "text": [
      "Found cached dataset mnist (/home/shikhar/.cache/huggingface/datasets/mnist/mnist/1.0.0/9d494b7f466d6931c64fb39d58bb1249a4d85c9eb9865d9bc20960b999e2a332)\n",
      "100%|██████████| 2/2 [00:00<00:00, 704.93it/s]\n"
     ]
    }
   ],
   "source": [
    "dataset = load_dataset('mnist')\n",
    "train_set, validation_set = train_test_split(dataset['train'], train_size=TRAIN_SET_SIZE, random_state=SPLIT_SEED)\n",
    "test_set = dataset['test']"
   ]
  },
  {
   "cell_type": "code",
   "execution_count": 9,
   "metadata": {},
   "outputs": [
    {
     "data": {
      "image/png": "[encoded data removed]",
      "text/plain": [
       "<Figure size 1200x600 with 10 Axes>"
      ]
     },
     "metadata": {},
     "output_type": "display_data"
    }
   ],
   "source": [
    "fig, axes = plt.subplots(2, 5, figsize=(12, 6))\n",
    "fig.suptitle('MNIST Samples', fontsize=16)\n",
    "\n",
    "for i, ax in enumerate(axes.flatten()):\n",
    "    sample_idx = np.random.randint(0, len(train_set['image']))\n",
    "    sample_image, sample_label = train_set['image'][sample_idx], train_set['label'][sample_idx]\n",
    "\n",
    "    ax.imshow(sample_image, cmap='gray')\n",
    "    ax.set_title(f'Label: {sample_label}')\n",
    "    ax.axis('off')\n",
    "\n",
    "plt.tight_layout()\n",
    "plt.show()"
   ]
  },
  {
   "attachments": {},
   "cell_type": "markdown",
   "metadata": {},
   "source": [
    "## Model 1: Sklearn's SVM classifier, default parameters"
   ]
  },
  {
   "cell_type": "code",
   "execution_count": 10,
   "metadata": {},
   "outputs": [],
   "source": [
    "from sklearn import svm"
   ]
  },
  {
   "cell_type": "code",
   "execution_count": 16,
   "metadata": {},
   "outputs": [
    {
     "name": "stdout",
     "output_type": "stream",
     "text": [
      "CPU times: user 7min 6s, sys: 600 ms, total: 7min 6s\n",
      "Wall time: 7min 10s\n"
     ]
    }
   ],
   "source": [
    "%%time\n",
    "with mlflow.start_run(run_name='svm-sklearn-default-params', description='SVM classifier using sklearn\\'s default params.', experiment_id=experiment.experiment_id) as run:\n",
    "    clf = svm.SVC()\n",
    "\n",
    "    # Reshape the training set.\n",
    "    X_train = np.array([np.array(img).reshape(784,) for img in train_set['image']])\n",
    "    y_train = np.array(train_set['label'])\n",
    "\n",
    "    X_validation = np.array([np.array(img).reshape(784,) for img in validation_set['image']])\n",
    "    y_validation = np.array(validation_set['label'])\n",
    "\n",
    "    # Fit classifier.\n",
    "    clf.fit(X_train, y_train)\n",
    "\n",
    "    model_path = EXPERIMENT_DIR / run.info.run_id / 'classifier.pkl'\n",
    "    model_path.parent.mkdir(exist_ok=True)\n",
    "    # Save classifier to disk.\n",
    "    with open(model_path, 'wb') as model_file:\n",
    "        pickle.dump(clf, model_file)\n",
    "\n",
    "    mlflow.log_artifact(model_path)\n",
    "\n",
    "    # Evaluate on train and validation set.\n",
    "    train_predictions = clf.predict(X_train)\n",
    "    train_accuracy = (train_predictions == y_train).mean()\n",
    "\n",
    "    validation_predictions = clf.predict(X_validation)\n",
    "    validation_accuracy = (validation_predictions == y_validation).mean()\n",
    "\n",
    "    mlflow.log_metric('train_accuracy', train_accuracy)\n",
    "    mlflow.log_metric('validation_accuracy', validation_accuracy)"
   ]
  },
  {
   "cell_type": "code",
   "execution_count": null,
   "metadata": {},
   "outputs": [],
   "source": []
  }
 ],
 "metadata": {
  "kernelspec": {
   "display_name": "kaggle",
   "language": "python",
   "name": "python3"
  },
  "language_info": {
   "codemirror_mode": {
    "name": "ipython",
    "version": 3
   },
   "file_extension": ".py",
   "mimetype": "text/x-python",
   "name": "python",
   "nbconvert_exporter": "python",
   "pygments_lexer": "ipython3",
   "version": "3.10.6"
  },
  "orig_nbformat": 4
 },
 "nbformat": 4,
 "nbformat_minor": 2
}
